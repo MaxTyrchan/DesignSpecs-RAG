{
 "cells": [
  {
   "cell_type": "markdown",
   "metadata": {},
   "source": [
    "# Multimodal Pipeline for RAG"
   ]
  },
  {
   "cell_type": "markdown",
   "metadata": {},
   "source": [
    "## Phase 0: Setting up the Project"
   ]
  },
  {
   "cell_type": "code",
   "execution_count": 1,
   "metadata": {},
   "outputs": [
    {
     "name": "stderr",
     "output_type": "stream",
     "text": [
      "/Users/maxtyrchan/Developer/DesignSpecs-RAG/.venv/lib/python3.13/site-packages/tqdm/auto.py:21: TqdmWarning: IProgress not found. Please update jupyter and ipywidgets. See https://ipywidgets.readthedocs.io/en/stable/user_install.html\n",
      "  from .autonotebook import tqdm as notebook_tqdm\n"
     ]
    }
   ],
   "source": [
    "from unstructured.partition.pdf import partition_pdf\n",
    "import pytest\n",
    "from services.categorizer import categorize"
   ]
  },
  {
   "cell_type": "markdown",
   "metadata": {},
   "source": [
    "## Phase 1: Indexing\n",
    "\n",
    "Indexing starts with the cleaning and extraction of raw data in diverse formats like PDF, HTML, Word, and Markdown, which is then converted into a uniform plain text format."
   ]
  },
  {
   "cell_type": "markdown",
   "metadata": {},
   "source": [
    "### Extraction"
   ]
  },
  {
   "cell_type": "code",
   "execution_count": 53,
   "metadata": {},
   "outputs": [],
   "source": [
    "file_path = \"./assets/CG101_CG102_CG103.pdf\"\n",
    "#\"./assets/Table.pdf\"\n",
    "#\n",
    "\n",
    "pdf_elements = partition_pdf(filename=file_path,\n",
    "                             strategy='hi_res',\n",
    "                             infer_table_structure=True,\n",
    "                             hi_res_model_name='yolox',\n",
    "                             #extract_image_block_types=['Image'], #Enable later but fix Bosch logo extraction!!!\n",
    "                             #extract_image_block_to_payload=True, #If True, will extract base64 for API usage\n",
    "                             chunking_strategy='by_title',          # splitting strategy for the document (related elements are now grouped together)\n",
    "                             max_characters=10000,                  # defaults to 500\n",
    "                             combine_text_under_n_chars=2000,       # defaults to 0\n",
    "                             new_after_n_chars=6000)"
   ]
  },
  {
   "cell_type": "markdown",
   "metadata": {},
   "source": [
    "With the recent updates to the unstructured library (especially >=0.11.x), when using chunking_strategy=\"by_title\", the output elements are wrapped as CompositeElement, grouping together content under headings — which can include Table, Text, Image, etc.\n",
    "\n",
    "🔍 When to Use Raw Access (No Chunking)\n",
    "\n",
    "✅ Use this when:\n",
    "\t•\tYour primary goal is to extract specific elements, like tables, without worrying about their surrounding context.\n",
    "\t•\tYou want to classify, transform, or analyze tables or text independently.\n",
    "\t•\tYou’re building a pipeline where you process each element individually (e.g., sending them to LLMs, storing in a vector DB, etc.).\n",
    "\n",
    "✅ Pros:\n",
    "\t•\tSimple and straightforward.\n",
    "\t•\tFull visibility into all content types.\n",
    "\t•\tEasier debugging and testing.\n",
    "\n",
    "❌ Cons:\n",
    "\t•\tNo semantic grouping — loses the logical structure (e.g., which section the table belongs to).\n",
    "\n",
    "🧩 When to Use Chunking (e.g. by_title)\n",
    "\n",
    "✅ Use this when:\n",
    "\t•\tYou want to preserve the document’s logical structure — e.g., sections, headings, context.\n",
    "\t•\tYou’re building a retrieval system, summarizer, or LLM pipeline that benefits from cohesive, meaningful chunks.\n",
    "\t•\tYou want to preserve the relationship between paragraphs and tables/images under a specific section.\n",
    "\n",
    "✅ Pros:\n",
    "\t•\tMore semantically meaningful.\n",
    "\t•\tBetter input for language models.\n",
    "\t•\tMaintains context between related elements.\n",
    "\n",
    "❌ Cons:\n",
    "\t•\tMore complex to work with — requires digging into CompositeElement.elements.\n",
    "\t•\tSlightly harder to extract just tables."
   ]
  },
  {
   "cell_type": "code",
   "execution_count": null,
   "metadata": {},
   "outputs": [
    {
     "data": {
      "text/plain": [
       "[<unstructured.documents.elements.Text at 0x337a89940>,\n",
       " <unstructured.documents.elements.Text at 0x337a8a740>,\n",
       " <unstructured.documents.elements.NarrativeText at 0x337a8b770>,\n",
       " <unstructured.documents.elements.Image at 0x337a8b930>,\n",
       " <unstructured.documents.elements.Image at 0x337a8ba10>,\n",
       " <unstructured.documents.elements.Text at 0x337a8b540>,\n",
       " <unstructured.documents.elements.Title at 0x337a8bd20>,\n",
       " <unstructured.documents.elements.Title at 0x35111a350>,\n",
       " <unstructured.documents.elements.Title at 0x337a88050>,\n",
       " <unstructured.documents.elements.NarrativeText at 0x337a88750>,\n",
       " <unstructured.documents.elements.Title at 0x337a88c20>,\n",
       " <unstructured.documents.elements.NarrativeText at 0x337a88fa0>,\n",
       " <unstructured.documents.elements.Title at 0x337a8be00>,\n",
       " <unstructured.documents.elements.Title at 0x337a89240>,\n",
       " <unstructured.documents.elements.Title at 0x337a8ae40>,\n",
       " <unstructured.documents.elements.Title at 0x32d15c1a0>,\n",
       " <unstructured.documents.elements.Title at 0x32d15c440>,\n",
       " <unstructured.documents.elements.Title at 0x32d15c050>,\n",
       " <unstructured.documents.elements.Title at 0x32d15ce50>,\n",
       " <unstructured.documents.elements.Title at 0x32d15d010>,\n",
       " <unstructured.documents.elements.Image at 0x337a8a9e0>,\n",
       " <unstructured.documents.elements.NarrativeText at 0x337a8af20>,\n",
       " <unstructured.documents.elements.Image at 0x337a8b2a0>,\n",
       " <unstructured.documents.elements.Image at 0x337a8b460>,\n",
       " <unstructured.documents.elements.Text at 0x32d15d0f0>,\n",
       " <unstructured.documents.elements.NarrativeText at 0x337a8b9a0>]"
      ]
     },
     "execution_count": 56,
     "metadata": {},
     "output_type": "execute_result"
    }
   ],
   "source": [
    "#pdf_elements is a list full of chunks. the different elements are stored in the metadata attribute of each chunk so next we have to extract the elements from the metadata with a loop\n",
    "\n",
    "pdf_elements[2].metadata.orig_elements"
   ]
  },
  {
   "cell_type": "code",
   "execution_count": 47,
   "metadata": {},
   "outputs": [
    {
     "data": {
      "text/plain": [
       "{\"<class 'unstructured.documents.elements.Image'>\",\n",
       " \"<class 'unstructured.documents.elements.NarrativeText'>\",\n",
       " \"<class 'unstructured.documents.elements.Table'>\",\n",
       " \"<class 'unstructured.documents.elements.Text'>\",\n",
       " \"<class 'unstructured.documents.elements.Title'>\"}"
      ]
     },
     "execution_count": 47,
     "metadata": {},
     "output_type": "execute_result"
    }
   ],
   "source": [
    "# Subelements contain the actual elements\n",
    "chunks = pdf_elements[0].metadata.orig_elements\n",
    "set([str(type(el)) for el in chunks])"
   ]
  },
  {
   "cell_type": "code",
   "execution_count": null,
   "metadata": {},
   "outputs": [
    {
     "data": {
      "text/plain": [
       "{\"<class 'unstructured.documents.elements.Image'>\",\n",
       " \"<class 'unstructured.documents.elements.NarrativeText'>\",\n",
       " \"<class 'unstructured.documents.elements.Table'>\",\n",
       " \"<class 'unstructured.documents.elements.Text'>\",\n",
       " \"<class 'unstructured.documents.elements.Title'>\"}"
      ]
     },
     "execution_count": 45,
     "metadata": {},
     "output_type": "execute_result"
    }
   ],
   "source": []
  },
  {
   "cell_type": "markdown",
   "metadata": {},
   "source": [
    "### Separate extracted elements into tables, text, and images"
   ]
  },
  {
   "cell_type": "markdown",
   "metadata": {},
   "source": [
    "Separate tables from texts"
   ]
  },
  {
   "cell_type": "code",
   "execution_count": null,
   "metadata": {},
   "outputs": [
    {
     "data": {
      "text/plain": [
       "[<unstructured.documents.elements.Table at 0x337dab380>]"
      ]
     },
     "execution_count": 52,
     "metadata": {},
     "output_type": "execute_result"
    }
   ],
   "source": [
    "# separate tables from texts\n",
    "tables = []\n",
    "texts = []\n",
    "\n",
    "for chunk in chunks:\n",
    "    if \"Table\" in str(type(chunk)):\n",
    "        tables.append(chunk)\n",
    "\n",
    "    if \"CompositeElement\" in str(type((chunk))):\n",
    "        texts.append(chunk)"
   ]
  },
  {
   "cell_type": "markdown",
   "metadata": {},
   "source": [
    "Get the images from the CompositeElement objects"
   ]
  },
  {
   "cell_type": "code",
   "execution_count": 50,
   "metadata": {},
   "outputs": [],
   "source": [
    "def get_images_base64(chunks):\n",
    "    images_b64 = []\n",
    "    for chunk in chunks:\n",
    "        if \"CompositeElement\" in str(type(chunk)):\n",
    "            chunk_els = chunk.metadata.orig_elements\n",
    "            for el in chunk_els:\n",
    "                if \"Image\" in str(type(el)):\n",
    "                    images_b64.append(el.metadata.image_base64)\n",
    "    return images_b64\n",
    "\n",
    "images = get_images_base64(chunks)"
   ]
  }
 ],
 "metadata": {
  "kernelspec": {
   "display_name": ".venv",
   "language": "python",
   "name": "python3"
  },
  "language_info": {
   "codemirror_mode": {
    "name": "ipython",
    "version": 3
   },
   "file_extension": ".py",
   "mimetype": "text/x-python",
   "name": "python",
   "nbconvert_exporter": "python",
   "pygments_lexer": "ipython3",
   "version": "3.13.2"
  }
 },
 "nbformat": 4,
 "nbformat_minor": 2
}
